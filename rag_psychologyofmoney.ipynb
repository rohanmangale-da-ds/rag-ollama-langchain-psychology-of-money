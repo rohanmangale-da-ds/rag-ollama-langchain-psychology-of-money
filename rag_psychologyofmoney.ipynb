{
 "cells": [
  {
   "cell_type": "code",
   "execution_count": 1,
   "id": "92c05938",
   "metadata": {},
   "outputs": [],
   "source": [
    "from langchain_community.document_loaders import UnstructuredPDFLoader\n",
    "from langchain_community.document_loaders import PyPDFLoader\n",
    "from langchain.text_splitter import RecursiveCharacterTextSplitter\n",
    "from langchain_community.vectorstores import Chroma\n",
    "from langchain_community.embeddings import OllamaEmbeddings\n",
    "import ollama\n",
    "from langchain.prompts import ChatPromptTemplate, PromptTemplate\n",
    "from langchain_core.output_parsers import StrOutputParser\n",
    "from langchain_ollama import ChatOllama\n",
    "from langchain_core.runnables import RunnablePassthrough\n",
    "from langchain.retrievers.multi_query import MultiQueryRetriever"
   ]
  },
  {
   "cell_type": "code",
   "execution_count": 2,
   "id": "eb1c1df3",
   "metadata": {},
   "outputs": [],
   "source": [
    "doc_path = r\"C:\\ml_algorithms\\LangGraphs_n_langchain\\langchain\\data\\the-psychology-of-money-by-morgan-housel.pdf\""
   ]
  },
  {
   "cell_type": "code",
   "execution_count": 3,
   "id": "bd40ae5c",
   "metadata": {},
   "outputs": [],
   "source": [
    "model = \"gemma3:12b\""
   ]
  },
  {
   "cell_type": "code",
   "execution_count": 4,
   "id": "d690cd8b",
   "metadata": {},
   "outputs": [
    {
     "name": "stdout",
     "output_type": "stream",
     "text": [
      "done loading...\n"
     ]
    }
   ],
   "source": [
    "if doc_path:\n",
    "    loader = PyPDFLoader(doc_path)\n",
    "    documents = loader.load()\n",
    "    print(\"done loading...\")\n",
    "else:\n",
    "    print(\"Please upload a file the mentioned file doesn't exist!!\")"
   ]
  },
  {
   "cell_type": "code",
   "execution_count": 5,
   "id": "e1edea75",
   "metadata": {},
   "outputs": [
    {
     "data": {
      "text/plain": [
       "253"
      ]
     },
     "execution_count": 5,
     "metadata": {},
     "output_type": "execute_result"
    }
   ],
   "source": [
    "len(documents)"
   ]
  },
  {
   "cell_type": "code",
   "execution_count": 6,
   "id": "a2d96f07",
   "metadata": {},
   "outputs": [
    {
     "name": "stdout",
     "output_type": "stream",
     "text": [
      "\n"
     ]
    }
   ],
   "source": [
    "content = documents[0].page_content\n",
    "print(content[0:500])"
   ]
  },
  {
   "cell_type": "code",
   "execution_count": 7,
   "id": "01660925",
   "metadata": {},
   "outputs": [
    {
     "name": "stdout",
     "output_type": "stream",
     "text": [
      "done splitting...\n",
      "Total chunks: 412\n"
     ]
    }
   ],
   "source": [
    "# split and chunks\n",
    "text_spliter = RecursiveCharacterTextSplitter(chunk_size = 1200, chunk_overlap = 400)\n",
    "chunks = text_spliter.split_documents(documents)\n",
    "print(\"done splitting...\")\n",
    "print(f\"Total chunks: {len(chunks)}\")"
   ]
  },
  {
   "cell_type": "code",
   "execution_count": 8,
   "id": "c94cd323",
   "metadata": {},
   "outputs": [
    {
     "data": {
      "text/plain": [
       "'The money industry—investing, personal ﬁnance, business planning—is another story.\\nFinance has scooped up the smartest minds coming from top universities over the last twodecades. Financial Engineering was the most popular major in Princeton’s School ofEngineering a decade ago. Is there any evidence it has made us better investors?\\nI have seen none.\\nThrough collective trial and error over the years we learned how to become better farmers,skilled plumbers, and advanced chemists. But has trial and error taught us to becomebetter with our personal ﬁnances? Are we less likely to bury ourselves in debt? More likelyto save for a rainy day? Prepare for retirement? Have realistic views about what moneydoes, and doesn’t do, to our happiness?\\nI’ve seen no compelling evidence.\\nMost of the reason why, I believe, is that we think about and are taught about money inways that are too much like physics (with rules and laws) and not enough like psychology(with emotions and nuance).\\nAnd that, to me, is as fascinating as it is important.'"
      ]
     },
     "execution_count": 8,
     "metadata": {},
     "output_type": "execute_result"
    }
   ],
   "source": [
    "chunks[15].page_content"
   ]
  },
  {
   "cell_type": "code",
   "execution_count": 9,
   "id": "866fc80f",
   "metadata": {},
   "outputs": [
    {
     "data": {
      "text/plain": [
       "'I’ve seen no compelling evidence.\\nMost of the reason why, I believe, is that we think about and are taught about money inways that are too much like physics (with rules and laws) and not enough like psychology(with emotions and nuance).\\nAnd that, to me, is as fascinating as it is important.\\nMoney is everywhere, it aﬀects all of us, and confuses most of us. Everyone thinks about it alittle diﬀerently. It oﬀers lessons on things that apply to many areas of life, like risk,conﬁdence, and happiness. Few topics oﬀer a more powerful magnifying glass that helpsexplain why people behave the way they do than money. It is one of the greatest shows onEarth.\\nMy own appreciation for the psychology of money is shaped by more than a decade ofwriting on the topic. I began writing about ﬁnance in early 2008. It was the dawn of aﬁnancial crisis and the worst recession in 80 years.\\nTo write about what was happening, I wanted to ﬁgure out what was happening. But theﬁrst thing I learned after the ﬁnancial crisis was that no one could accurately explain whathappened, or why it happened, let alone what should be done about it. For every goodexplanation there was an equally convincing rebuttal.'"
      ]
     },
     "execution_count": 9,
     "metadata": {},
     "output_type": "execute_result"
    }
   ],
   "source": [
    "chunks[16].page_content"
   ]
  },
  {
   "cell_type": "code",
   "execution_count": 10,
   "id": "f9054cd3",
   "metadata": {},
   "outputs": [
    {
     "data": {
      "text/plain": [
       "ProgressResponse(status='success', completed=None, total=None, digest=None)"
      ]
     },
     "execution_count": 10,
     "metadata": {},
     "output_type": "execute_result"
    }
   ],
   "source": [
    "ollama.pull(\"nomic-embed-text:v1.5\")"
   ]
  },
  {
   "cell_type": "code",
   "execution_count": 11,
   "id": "4f569c81",
   "metadata": {},
   "outputs": [],
   "source": [
    "# Save to disk\n",
    "persist_dir = \"./chroma_db\""
   ]
  },
  {
   "cell_type": "code",
   "execution_count": 12,
   "id": "92356137",
   "metadata": {},
   "outputs": [],
   "source": [
    "# # Create and persist vector db\n",
    "# vector_db = Chroma.from_documents(\n",
    "#     documents=chunks,\n",
    "#     embedding=OllamaEmbeddings(model=\"nomic-embed-text:v1.5\"),\n",
    "#     collection_name=\"psychology_of_money_rag\",\n",
    "#     persist_directory=persist_dir\n",
    "# )\n",
    "# print(\"done adding a vector database...\")"
   ]
  },
  {
   "cell_type": "code",
   "execution_count": 13,
   "id": "76ac8edb",
   "metadata": {},
   "outputs": [],
   "source": [
    "# # Save to disk\n",
    "# vector_db.persist()\n",
    "# print(\"Vector database created & persisted.\")"
   ]
  },
  {
   "cell_type": "code",
   "execution_count": 14,
   "id": "1bb5e8cf",
   "metadata": {},
   "outputs": [
    {
     "name": "stderr",
     "output_type": "stream",
     "text": [
      "C:\\Users\\Lenovo\\AppData\\Local\\Temp\\ipykernel_13956\\3513627814.py:4: LangChainDeprecationWarning: The class `OllamaEmbeddings` was deprecated in LangChain 0.3.1 and will be removed in 1.0.0. An updated version of the class exists in the :class:`~langchain-ollama package and should be used instead. To use it run `pip install -U :class:`~langchain-ollama` and import as `from :class:`~langchain_ollama import OllamaEmbeddings``.\n",
      "  embedding_function=OllamaEmbeddings(model=\"nomic-embed-text:v1.5\"),\n",
      "C:\\Users\\Lenovo\\AppData\\Local\\Temp\\ipykernel_13956\\3513627814.py:2: LangChainDeprecationWarning: The class `Chroma` was deprecated in LangChain 0.2.9 and will be removed in 1.0. An updated version of the class exists in the :class:`~langchain-chroma package and should be used instead. To use it run `pip install -U :class:`~langchain-chroma` and import as `from :class:`~langchain_chroma import Chroma``.\n",
      "  vector_db = Chroma(\n"
     ]
    },
    {
     "name": "stdout",
     "output_type": "stream",
     "text": [
      "Loaded existing vector database.\n",
      "Total items in DB: 412\n"
     ]
    }
   ],
   "source": [
    "# Load persisted vector db\n",
    "vector_db = Chroma(\n",
    "    persist_directory=persist_dir,\n",
    "    embedding_function=OllamaEmbeddings(model=\"nomic-embed-text:v1.5\"),\n",
    "    collection_name=\"psychology_of_money_rag\"\n",
    ")\n",
    "\n",
    "print(\"Loaded existing vector database.\")\n",
    "print(\"Total items in DB:\", vector_db._collection.count())"
   ]
  },
  {
   "cell_type": "code",
   "execution_count": 15,
   "id": "07bb0497",
   "metadata": {},
   "outputs": [],
   "source": [
    "#setup model\n",
    "llm = ChatOllama(model = model)"
   ]
  },
  {
   "cell_type": "code",
   "execution_count": 16,
   "id": "6372fde5",
   "metadata": {},
   "outputs": [],
   "source": [
    "QUERY_PROMPT = PromptTemplate(\n",
    "    input_variables=[\"question\"],\n",
    "    template=\"\"\"You are an AI language model assistant. Your task is to generate five\n",
    "    different versions of the given user question to retrieve relevant documents from\n",
    "    a vector database. By generating multiple perspectives on the user question, your\n",
    "    goal is to help the user overcome some of the limitations of the distance-based\n",
    "    similarity search. Provide these alternative questions separated by newlines.\n",
    "    Original question: {question}\"\"\",\n",
    ")"
   ]
  },
  {
   "cell_type": "code",
   "execution_count": 17,
   "id": "79aace2a",
   "metadata": {},
   "outputs": [],
   "source": [
    "retriever = MultiQueryRetriever.from_llm(\n",
    "    vector_db.as_retriever(), llm, prompt=QUERY_PROMPT\n",
    ")"
   ]
  },
  {
   "cell_type": "code",
   "execution_count": 18,
   "id": "89044003",
   "metadata": {},
   "outputs": [],
   "source": [
    "# RAG prompt\n",
    "template = \"\"\"Answer the question based ONLY on the following context:\n",
    "{context}\n",
    "Question: {question}\n",
    "\"\"\"\n",
    "\n",
    "prompt = ChatPromptTemplate.from_template(template)"
   ]
  },
  {
   "cell_type": "code",
   "execution_count": 19,
   "id": "0cc55d0c",
   "metadata": {},
   "outputs": [],
   "source": [
    "chain = (\n",
    "    {\"context\": retriever, \"question\": RunnablePassthrough()}\n",
    "    | prompt\n",
    "    | llm\n",
    "    | StrOutputParser()\n",
    ")"
   ]
  },
  {
   "cell_type": "code",
   "execution_count": null,
   "id": "b4f977e5",
   "metadata": {},
   "outputs": [],
   "source": [
    "res = chain.invoke(input=(\"What is the the book about and give me detailed summary of the book in pointwise manner\"))\n",
    "\n",
    "print(res)"
   ]
  }
 ],
 "metadata": {
  "kernelspec": {
   "display_name": "venv",
   "language": "python",
   "name": "python3"
  },
  "language_info": {
   "codemirror_mode": {
    "name": "ipython",
    "version": 3
   },
   "file_extension": ".py",
   "mimetype": "text/x-python",
   "name": "python",
   "nbconvert_exporter": "python",
   "pygments_lexer": "ipython3",
   "version": "3.13.7"
  }
 },
 "nbformat": 4,
 "nbformat_minor": 5
}
